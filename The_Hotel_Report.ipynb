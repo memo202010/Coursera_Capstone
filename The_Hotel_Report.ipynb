{
    "nbformat_minor": 1, 
    "cells": [
        {
            "source": "### Full report for the \"Hotel Problem\"", 
            "cell_type": "markdown", 
            "metadata": {
                "collapsed": true
            }
        }, 
        {
            "source": "### Introduction:", 
            "cell_type": "markdown", 
            "metadata": {}
        }, 
        {
            "source": "I have chosen to solve the problem of where one would open a new hotel in Manhattan, New York. This analysis would be very useful for any existing hotel chain who is looking to expand, or a new hotel brand/group who are looking to get started in Manhattan, New York. As with any business, location is one the most crucial aspects in order for a business to be successful. My main criteria for analysis of the location was the closeness to parks, shops, restaurants, landmarks and transportation.", 
            "cell_type": "markdown", 
            "metadata": {}
        }, 
        {
            "source": "I will be incorporating foursquare location data in order to explore different neighborhoods in Manhattan, New York. Using the get method I will look for Venues such as restaurants, shops and etc in order to figure out the concentration and density of those venues in each area. I will also use a New York JSON file for the neighborhoods. ", 
            "cell_type": "markdown", 
            "metadata": {}
        }, 
        {
            "source": "### Methodology:", 
            "cell_type": "markdown", 
            "metadata": {}
        }, 
        {
            "source": "As mentioned above in order to segment the neighborhoods and exploring them, I will use a free JSON file, which contains information such as latitude, longitude for each neighborhood. The JSON file includes all the New York neighborhoods and boroughs. But I will narrow down the data to only neighborhoods in Manhattan area. First we need to extract the \u201cfeatures\u201d key in our JSON file, then transforming the data into pandas data frame. After creating our pandas data frame we now have access to information about latitude and longitude with respect to each neighborhood. Narrowing down the borough to Manhattan, we are now ready to explore our neighborhoods. Our next step would be to get geographical coordinates of Manhattan, and we are able to visualize and start using our foursquare API to explore neighborhoods. Next we define our foursquare credentials and version in order to start sending request urls. We create our url using our credentials, lat, long, Limit, radius and etc in order to explore neighborhoods in Manhattan. After obtaining our neighborhoods we can explore venues in each individual neighborhood (in my case I have used the top 10 venues for each individual neighborhood). Afterwards I have created a pandas data frame with all the neighborhoods and their top 10 most common venues. At this point we have all neighborhoods in Manhattan with their corresponding common venues. Since we are trying to find a location for a Hotel, I would eliminate neighborhoods who have Hotels associated in their common venues (this will eliminate the areas that already have established hotels as their top common venue, which will make it harder for a new chain to succeed). It is now time to cluster the neighborhoods together. I have used k-means cluster to divide neighborhoods into five clusters. Furthermore we can examine each of the 5 clusters with their corresponding common venues. As mentioned one of my main criteria for the location is the closeness to a park. So in the next step I have eliminated neighborhoods without the top common venue of \u201cPark\u201d. I was left with 8 candidate neighborhoods. Performing statistical analysis using the venues on foursquare API on the density of shops and restaurants in the 8 neighborhoods I have narrowed down the best candidates to 3 Neighborhoods which I believe are suitable for a hotel location. The three neighborhoods are: 1)Tribeca 2)Inwoods 3)West Village. ", 
            "cell_type": "markdown", 
            "metadata": {}
        }, 
        {
            "source": "### Results:", 
            "cell_type": "markdown", 
            "metadata": {}
        }, 
        {
            "source": "The results based on the statistical analysis using the foursquare API and K-means clustering came down to 3 neighborhoods which are suitable for a hotel location. The three neighborhoods are: 1)Tribeca 2)Inwoods 3)West Village. ", 
            "cell_type": "markdown", 
            "metadata": {}
        }, 
        {
            "source": "### Discussion:", 
            "cell_type": "markdown", 
            "metadata": {}
        }, 
        {
            "source": "As I started performing analysis on the neighborhoods first thing I looked for was the number of hotels in each neighborhood, which unsurprisingly for a place like Manhattan, most of the neighborhoods contain lots of hotels. Moreover lots of the neighborhoods had \u201cHotel\u201d as their top common venue. Eliminating those with top common venue of \u201cHotel\u201d made a lot of sense in terms of lowering the competition as much as possible. Doing external research online (hotels.com, bookings.com, etc.) I found out that the usual criteria for hotel locations are their distance from parks, landmarks, restaurants, shops and etc. Using those points I started narrowing down the neighborhoods to 8 neighborhoods. The decision process to narrow down more from those 8 neighborhoods was to find the neighborhoods with the highest density of restaurants/shops. Which brought my candidates to 3 neighborhoods. ", 
            "cell_type": "markdown", 
            "metadata": {}
        }, 
        {
            "source": "### Conclusion:", 
            "cell_type": "markdown", 
            "metadata": {}
        }, 
        {
            "source": "The goal of the project was to find a suitable neighborhood for a hotel to be opened in Manhattan, New York. All the neighborhoods in Manhattan were considered for this project. Each neighborhoods top 10 venues were explored using foursquare API. All the neighborhoods were clustered into 5 clusters using k-means clustering. Top criteria for finding the best neighborhood candidates were closeness to Parks, Landmarks, Restaurants, Shops and etc. It was also considered that the neighborhoods did not have top common venue as \u201chotel\u201d, so eliminating popular neighborhoods with hotels, giving our hotel the best chance to success (less competition). After detailed analysis we conclude the top 3 neighborhoods to open up a hotel to be: 1)Tribeca 2)Inwoods 3)West Village.", 
            "cell_type": "markdown", 
            "metadata": {}
        }
    ], 
    "metadata": {
        "kernelspec": {
            "display_name": "Python 3.5", 
            "name": "python3", 
            "language": "python"
        }, 
        "language_info": {
            "mimetype": "text/x-python", 
            "nbconvert_exporter": "python", 
            "version": "3.5.5", 
            "name": "python", 
            "file_extension": ".py", 
            "pygments_lexer": "ipython3", 
            "codemirror_mode": {
                "version": 3, 
                "name": "ipython"
            }
        }
    }, 
    "nbformat": 4
}