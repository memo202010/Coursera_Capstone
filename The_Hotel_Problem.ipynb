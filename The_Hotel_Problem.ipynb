{
    "nbformat_minor": 1, 
    "cells": [
        {
            "source": "## Introduction/Bussines Problem:", 
            "cell_type": "markdown", 
            "metadata": {
                "collapsed": true
            }
        }, 
        {
            "source": "#### In this Notebook I will be exploring and analyzing different neighborhoods in Manhattan, New York in order to determine where would be the best place/Neighborhood to open up a hotel!\n", 
            "cell_type": "markdown", 
            "metadata": {}
        }, 
        {
            "source": "## Data section and procedure used for the \"Hotel\" problem:", 
            "cell_type": "markdown", 
            "metadata": {}
        }, 
        {
            "source": "#### I will be incorporating Foursquare location data in order to determine the best location to open a hotel in Manhatta, New York. I will be extracting coordinates of the different neighborhoods in Manhattan and use clustering to group the neighborhoods into 5 clusters. Afterwards I will explore the neighborhood clusters with the different criteria to calculate the best location for a hotel. My main criteria to explore the neighborhoods are: Landmarks, restaurants/cafe, parks, shopping centers, Museums and etc. Any neighborhood containing my criteria which is in walking distance (preferably 2 mile radius) would be a greate candidate for a hotel location.", 
            "cell_type": "markdown", 
            "metadata": {}
        }
    ], 
    "metadata": {
        "kernelspec": {
            "display_name": "Python 3.5", 
            "name": "python3", 
            "language": "python"
        }, 
        "language_info": {
            "mimetype": "text/x-python", 
            "nbconvert_exporter": "python", 
            "version": "3.5.5", 
            "name": "python", 
            "file_extension": ".py", 
            "pygments_lexer": "ipython3", 
            "codemirror_mode": {
                "version": 3, 
                "name": "ipython"
            }
        }
    }, 
    "nbformat": 4
}