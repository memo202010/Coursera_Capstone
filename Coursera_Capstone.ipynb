{
    "nbformat_minor": 1, 
    "cells": [
        {
            "source": "This notebook will be mainly used for the capstone project!", 
            "cell_type": "markdown", 
            "metadata": {
                "collapsed": true
            }
        }, 
        {
            "execution_count": 50, 
            "cell_type": "code", 
            "metadata": {}, 
            "outputs": [], 
            "source": "import pandas as pd\nimport numpy as np"
        }, 
        {
            "execution_count": 51, 
            "cell_type": "code", 
            "metadata": {}, 
            "outputs": [
                {
                    "output_type": "stream", 
                    "name": "stdout", 
                    "text": "Hello Capstone Project Course!\n"
                }
            ], 
            "source": "print('Hello Capstone Project Course!')"
        }, 
        {
            "execution_count": 4, 
            "cell_type": "code", 
            "metadata": {}, 
            "outputs": [
                {
                    "output_type": "stream", 
                    "name": "stdout", 
                    "text": "Fetching package metadata .............\nSolving package specifications: .\n\n# All requested packages already installed.\n# packages in environment at /opt/conda/envs/DSX-Python35:\n#\nbeautifulsoup4            4.6.3                    py35_0    conda-forge\n"
                }
            ], 
            "source": "!conda install -c conda-forge beautifulsoup4 --yes"
        }, 
        {
            "execution_count": 5, 
            "cell_type": "code", 
            "metadata": {}, 
            "outputs": [
                {
                    "output_type": "stream", 
                    "name": "stdout", 
                    "text": "Fetching package metadata .............\nSolving package specifications: .\n\nPackage plan for installation in environment /opt/conda/envs/DSX-Python35:\n\nThe following packages will be UPDATED:\n\n    libxml2: 2.9.4-h6b072ca_5     --> 2.9.8-h422b904_2     conda-forge\n    libxslt: 1.1.29-hcf9102b_5    --> 1.1.32-h88dbc4e_2    conda-forge\n    lxml:    4.1.0-py35ha401a81_0 --> 4.2.5-py35hc9114bc_0 conda-forge\n\nlibxml2-2.9.8- 100% |################################| Time: 0:00:00  74.92 MB/s\nlibxslt-1.1.32 100% |################################| Time: 0:00:00  66.61 MB/s\nlxml-4.2.5-py3 100% |################################| Time: 0:00:00  65.16 MB/s\n"
                }
            ], 
            "source": "!conda install -c conda-forge lxml --yes"
        }, 
        {
            "execution_count": 55, 
            "cell_type": "code", 
            "metadata": {}, 
            "outputs": [], 
            "source": "from bs4 import BeautifulSoup\nimport requests"
        }, 
        {
            "execution_count": 56, 
            "cell_type": "code", 
            "metadata": {}, 
            "outputs": [], 
            "source": "source = requests.get('https://en.wikipedia.org/wiki/List_of_postal_codes_of_Canada:_M').text"
        }, 
        {
            "source": "Create the CSV file", 
            "cell_type": "markdown", 
            "metadata": {}
        }, 
        {
            "execution_count": 57, 
            "cell_type": "code", 
            "metadata": {}, 
            "outputs": [
                {
                    "execution_count": 57, 
                    "metadata": {}, 
                    "data": {
                        "text/plain": "33"
                    }, 
                    "output_type": "execute_result"
                }
            ], 
            "source": "import csv\nsoup = BeautifulSoup(source, 'lxml')\ncsv_file = open('cms_scrape.csv', 'w')\ncsv_writer = csv.writer(csv_file)\ncsv_writer.writerow(['PostalCode', 'Borough', 'Neighborhood'])"
        }, 
        {
            "source": "Parse/scrape the table from Wikipedia:", 
            "cell_type": "markdown", 
            "metadata": {}
        }, 
        {
            "execution_count": 58, 
            "cell_type": "code", 
            "metadata": {}, 
            "outputs": [
                {
                    "output_type": "stream", 
                    "name": "stdout", 
                    "text": "M1A Not assigned Not assigned\n\nM2A Not assigned Not assigned\n\nM3A North York Parkwoods\n\nM4A North York Victoria Village\n\nM5A Downtown Toronto Harbourfront\n\nM5A Downtown Toronto Regent Park\n\nM6A North York Lawrence Heights\n\nM6A North York Lawrence Manor\n\nM7A Queen's Park Not assigned\n\nM8A Not assigned Not assigned\n\nM9A Etobicoke Islington Avenue\n\nM1B Scarborough Rouge\n\nM1B Scarborough Malvern\n\nM2B Not assigned Not assigned\n\nM3B North York Don Mills North\n\nM4B East York Woodbine Gardens\n\nM4B East York Parkview Hill\n\nM5B Downtown Toronto Ryerson\n\nM5B Downtown Toronto Garden District\n\nM6B North York Glencairn\n\nM7B Not assigned Not assigned\n\nM8B Not assigned Not assigned\n\nM9B Etobicoke Cloverdale\n\nM9B Etobicoke Islington\n\nM9B Etobicoke Martin Grove\n\nM9B Etobicoke Princess Gardens\n\nM9B Etobicoke West Deane Park\n\nM1C Scarborough Highland Creek\n\nM1C Scarborough Rouge Hill\n\nM1C Scarborough Port Union\n\nM2C Not assigned Not assigned\n\nM3C North York Flemingdon Park\n\nM3C North York Don Mills South\n\nM4C East York Woodbine Heights\n\nM5C Downtown Toronto St. James Town\n\nM6C York Humewood-Cedarvale\n\nM7C Not assigned Not assigned\n\nM8C Not assigned Not assigned\n\nM9C Etobicoke Bloordale Gardens\n\nM9C Etobicoke Eringate\n\nM9C Etobicoke Markland Wood\n\nM9C Etobicoke Old Burnhamthorpe\n\nM1E Scarborough Guildwood\n\nM1E Scarborough Morningside\n\nM1E Scarborough West Hill\n\nM2E Not assigned Not assigned\n\nM3E Not assigned Not assigned\n\nM4E East Toronto The Beaches\n\nM5E Downtown Toronto Berczy Park\n\nM6E York Caledonia-Fairbanks\n\nM7E Not assigned Not assigned\n\nM8E Not assigned Not assigned\n\nM9E Not assigned Not assigned\n\nM1G Scarborough Woburn\n\nM2G Not assigned Not assigned\n\nM3G Not assigned Not assigned\n\nM4G East York Leaside\n\nM5G Downtown Toronto Central Bay Street\n\nM6G Downtown Toronto Christie\n\nM7G Not assigned Not assigned\n\nM8G Not assigned Not assigned\n\nM9G Not assigned Not assigned\n\nM1H Scarborough Cedarbrae\n\nM2H North York Hillcrest Village\n\nM3H North York Bathurst Manor\n\nM3H North York Downsview North\n\nM3H North York Wilson Heights\n\nM4H East York Thorncliffe Park\n\nM5H Downtown Toronto Adelaide\n\nM5H Downtown Toronto King\n\nM5H Downtown Toronto Richmond\n\nM6H West Toronto Dovercourt Village\n\nM6H West Toronto Dufferin\n\nM7H Not assigned Not assigned\n\nM8H Not assigned Not assigned\n\nM9H Not assigned Not assigned\n\nM1J Scarborough Scarborough Village\n\nM2J North York Fairview\n\nM2J North York Henry Farm\n\nM2J North York Oriole\n\nM3J North York Northwood Park\n\nM3J North York York University\n\nM4J East York East Toronto\n\nM5J Downtown Toronto Harbourfront East\n\nM5J Downtown Toronto Toronto Islands\n\nM5J Downtown Toronto Union Station\n\nM6J West Toronto Little Portugal\n\nM6J West Toronto Trinity\n\nM7J Not assigned Not assigned\n\nM8J Not assigned Not assigned\n\nM9J Not assigned Not assigned\n\nM1K Scarborough East Birchmount Park\n\nM1K Scarborough Ionview\n\nM1K Scarborough Kennedy Park\n\nM2K North York Bayview Village\n\nM3K North York CFB Toronto\n\nM3K North York Downsview East\n\nM4K East Toronto The Danforth West\n\nM4K East Toronto Riverdale\n\nM5K Downtown Toronto Design Exchange\n\nM5K Downtown Toronto Toronto Dominion Centre\n\nM6K West Toronto Brockton\n\nM6K West Toronto Exhibition Place\n\nM6K West Toronto Parkdale Village\n\nM7K Not assigned Not assigned\n\nM8K Not assigned Not assigned\n\nM9K Not assigned Not assigned\n\nM1L Scarborough Clairlea\n\nM1L Scarborough Golden Mile\n\nM1L Scarborough Oakridge\n\nM2L North York Silver Hills\n\nM2L North York York Mills\n\nM3L North York Downsview West\n\nM4L East Toronto The Beaches West\n\nM4L East Toronto India Bazaar\n\nM5L Downtown Toronto Commerce Court\n\nM5L Downtown Toronto Victoria Hotel\n\nM6L North York Maple Leaf Park\n\nM6L North York North Park\n\nM6L North York Upwood Park\n\nM7L Not assigned Not assigned\n\nM8L Not assigned Not assigned\n\nM9L North York Humber Summit\n\nM1M Scarborough Cliffcrest\n\nM1M Scarborough Cliffside\n\nM1M Scarborough Scarborough Village West\n\nM2M North York Newtonbrook\n\nM2M North York Willowdale\n\nM3M North York Downsview Central\n\nM4M East Toronto Studio District\n\nM5M North York Bedford Park\n\nM5M North York Lawrence Manor East\n\nM6M York Del Ray\n\nM6M York Keelesdale\n\nM6M York Mount Dennis\n\nM6M York Silverthorn\n\nM7M Not assigned Not assigned\n\nM8M Not assigned Not assigned\n\nM9M North York Emery\n\nM9M North York Humberlea\n\nM1N Scarborough Birch Cliff\n\nM1N Scarborough Cliffside West\n\nM2N North York Willowdale South\n\nM3N North York Downsview Northwest\n\nM4N Central Toronto Lawrence Park\n\nM5N Central Toronto Roselawn\n\nM6N York The Junction North\n\nM6N York Runnymede\n\nM7N Not assigned Not assigned\n\nM8N Not assigned Not assigned\n\nM9N York Weston\n\nM1P Scarborough Dorset Park\n\nM1P Scarborough Scarborough Town Centre\n\nM1P Scarborough Wexford Heights\n\nM2P North York York Mills West\n\nM3P Not assigned Not assigned\n\nM4P Central Toronto Davisville North\n\nM5P Central Toronto Forest Hill North\n\nM5P Central Toronto Forest Hill West\n\nM6P West Toronto High Park\n\nM6P West Toronto The Junction South\n\nM7P Not assigned Not assigned\n\nM8P Not assigned Not assigned\n\nM9P Etobicoke Westmount\n\nM1R Scarborough Maryvale\n\nM1R Scarborough Wexford\n\nM2R North York Willowdale West\n\nM3R Not assigned Not assigned\n\nM4R Central Toronto North Toronto West\n\nM5R Central Toronto The Annex\n\nM5R Central Toronto North Midtown\n\nM5R Central Toronto Yorkville\n\nM6R West Toronto Parkdale\n\nM6R West Toronto Roncesvalles\n\nM7R Mississauga Canada Post Gateway Processing Centre\n\nM8R Not assigned Not assigned\n\nM9R Etobicoke Kingsview Village\n\nM9R Etobicoke Martin Grove Gardens\n\nM9R Etobicoke Richview Gardens\n\nM9R Etobicoke St. Phillips\n\nM1S Scarborough Agincourt\n\nM2S Not assigned Not assigned\n\nM3S Not assigned Not assigned\n\nM4S Central Toronto Davisville\n\nM5S Downtown Toronto Harbord\n\nM5S Downtown Toronto University of Toronto\n\nM6S West Toronto Runnymede\n\nM6S West Toronto Swansea\n\nM7S Not assigned Not assigned\n\nM8S Not assigned Not assigned\n\nM9S Not assigned Not assigned\n\nM1T Scarborough Clarks Corners\n\nM1T Scarborough Sullivan\n\nM1T Scarborough Tam O'Shanter\n\nM2T Not assigned Not assigned\n\nM3T Not assigned Not assigned\n\nM4T Central Toronto Moore Park\n\nM4T Central Toronto Summerhill East\n\nM5T Downtown Toronto Chinatown\n\nM5T Downtown Toronto Grange Park\n\nM5T Downtown Toronto Kensington Market\n\nM6T Not assigned Not assigned\n\nM7T Not assigned Not assigned\n\nM8T Not assigned Not assigned\n\nM9T Not assigned Not assigned\n\nM1V Scarborough Agincourt North\n\nM1V Scarborough L'Amoreaux East\n\nM1V Scarborough Milliken\n\nM1V Scarborough Steeles East\n\nM2V Not assigned Not assigned\n\nM3V Not assigned Not assigned\n\nM4V Central Toronto Deer Park\n\nM4V Central Toronto Forest Hill SE\n\nM4V Central Toronto Rathnelly\n\nM4V Central Toronto South Hill\n\nM4V Central Toronto Summerhill West\n\nM5V Downtown Toronto CN Tower\n\nM5V Downtown Toronto Bathurst Quay\n\nM5V Downtown Toronto Island airport\n\nM5V Downtown Toronto Harbourfront West\n\nM5V Downtown Toronto King and Spadina\n\nM5V Downtown Toronto Railway Lands\n\nM5V Downtown Toronto South Niagara\n\nM6V Not assigned Not assigned\n\nM7V Not assigned Not assigned\n\nM8V Etobicoke Humber Bay Shores\n\nM8V Etobicoke Mimico South\n\nM8V Etobicoke New Toronto\n\nM9V Etobicoke Albion Gardens\n\nM9V Etobicoke Beaumond Heights\n\nM9V Etobicoke Humbergate\n\nM9V Etobicoke Jamestown\n\nM9V Etobicoke Mount Olive\n\nM9V Etobicoke Silverstone\n\nM9V Etobicoke South Steeles\n\nM9V Etobicoke Thistletown\n\nM1W Scarborough L'Amoreaux West\n\nM1W Scarborough Steeles West\n\nM2W Not assigned Not assigned\n\nM3W Not assigned Not assigned\n\nM4W Downtown Toronto Rosedale\n\nM5W Downtown Toronto Stn A PO Boxes 25 The Esplanade\n\nM6W Not assigned Not assigned\n\nM7W Not assigned Not assigned\n\nM8W Etobicoke Alderwood\n\nM8W Etobicoke Long Branch\n\nM9W Etobicoke Northwest\n\nM1X Scarborough Upper Rouge\n\nM2X Not assigned Not assigned\n\nM3X Not assigned Not assigned\n\nM4X Downtown Toronto Cabbagetown\n\nM4X Downtown Toronto St. James Town\n\nM5X Downtown Toronto First Canadian Place\n\nM5X Downtown Toronto Underground city\n\nM6X Not assigned Not assigned\n\nM7X Not assigned Not assigned\n\nM8X Etobicoke The Kingsway\n\nM8X Etobicoke Montgomery Road\n\nM8X Etobicoke Old Mill North\n\nM9X Not assigned Not assigned\n\nM1Y Not assigned Not assigned\n\nM2Y Not assigned Not assigned\n\nM3Y Not assigned Not assigned\n\nM4Y Downtown Toronto Church and Wellesley\n\nM5Y Not assigned Not assigned\n\nM6Y Not assigned Not assigned\n\nM7Y East Toronto Business reply mail Processing Centre969 Eastern\n\nM8Y Etobicoke Humber Bay\n\nM8Y Etobicoke King's Mill Park\n\nM8Y Etobicoke Kingsway Park South East\n\nM8Y Etobicoke Mimico NE\n\nM8Y Etobicoke Old Mill South\n\nM8Y Etobicoke The Queensway East\n\nM8Y Etobicoke Royal York South East\n\nM8Y Etobicoke Sunnylea\n\nM9Y Not assigned Not assigned\n\nM1Z Not assigned Not assigned\n\nM2Z Not assigned Not assigned\n\nM3Z Not assigned Not assigned\n\nM4Z Not assigned Not assigned\n\nM5Z Not assigned Not assigned\n\nM6Z Not assigned Not assigned\n\nM7Z Not assigned Not assigned\n\nM8Z Etobicoke Kingsway Park South West\n\nM8Z Etobicoke Mimico NW\n\nM8Z Etobicoke The Queensway West\n\nM8Z Etobicoke Royal York South West\n\nM8Z Etobicoke South of Bloor\n\nM9Z Not assigned Not assigned\n\n"
                }
            ], 
            "source": "My_table = soup.find('table',{'class':'wikitable sortable'})\nfor tr in My_table.find_all('tr')[1:]:\n    tds = tr.find_all('td')\n    print(tds[0].text, tds[1].text, tds[2].text)\n    csv_writer.writerow([tds[0].text, tds[1].text, tds[2].text])\ncsv_file.close()"
        }, 
        {
            "source": "Drop the \"Not assigned\" rows from Borough coloumn", 
            "cell_type": "markdown", 
            "metadata": {}
        }, 
        {
            "execution_count": 60, 
            "cell_type": "code", 
            "metadata": {}, 
            "outputs": [], 
            "source": "df=pd.read_csv('cms_scrape.csv')\ndf['Neighborhood']=df['Neighborhood'].str.replace('\\n','')\ndf = df[df.Borough != 'Not assigned']"
        }, 
        {
            "execution_count": 61, 
            "cell_type": "code", 
            "metadata": {}, 
            "outputs": [
                {
                    "execution_count": 61, 
                    "metadata": {}, 
                    "data": {
                        "text/html": "<div>\n<style scoped>\n    .dataframe tbody tr th:only-of-type {\n        vertical-align: middle;\n    }\n\n    .dataframe tbody tr th {\n        vertical-align: top;\n    }\n\n    .dataframe thead th {\n        text-align: right;\n    }\n</style>\n<table border=\"1\" class=\"dataframe\">\n  <thead>\n    <tr style=\"text-align: right;\">\n      <th></th>\n      <th>PostalCode</th>\n      <th>Borough</th>\n      <th>Neighborhood</th>\n    </tr>\n  </thead>\n  <tbody>\n    <tr>\n      <th>2</th>\n      <td>M3A</td>\n      <td>North York</td>\n      <td>Parkwoods</td>\n    </tr>\n    <tr>\n      <th>3</th>\n      <td>M4A</td>\n      <td>North York</td>\n      <td>Victoria Village</td>\n    </tr>\n    <tr>\n      <th>4</th>\n      <td>M5A</td>\n      <td>Downtown Toronto</td>\n      <td>Harbourfront</td>\n    </tr>\n    <tr>\n      <th>5</th>\n      <td>M5A</td>\n      <td>Downtown Toronto</td>\n      <td>Regent Park</td>\n    </tr>\n    <tr>\n      <th>6</th>\n      <td>M6A</td>\n      <td>North York</td>\n      <td>Lawrence Heights</td>\n    </tr>\n    <tr>\n      <th>7</th>\n      <td>M6A</td>\n      <td>North York</td>\n      <td>Lawrence Manor</td>\n    </tr>\n    <tr>\n      <th>8</th>\n      <td>M7A</td>\n      <td>Queen's Park</td>\n      <td>Not assigned</td>\n    </tr>\n    <tr>\n      <th>10</th>\n      <td>M9A</td>\n      <td>Etobicoke</td>\n      <td>Islington Avenue</td>\n    </tr>\n    <tr>\n      <th>11</th>\n      <td>M1B</td>\n      <td>Scarborough</td>\n      <td>Rouge</td>\n    </tr>\n    <tr>\n      <th>12</th>\n      <td>M1B</td>\n      <td>Scarborough</td>\n      <td>Malvern</td>\n    </tr>\n    <tr>\n      <th>14</th>\n      <td>M3B</td>\n      <td>North York</td>\n      <td>Don Mills North</td>\n    </tr>\n    <tr>\n      <th>15</th>\n      <td>M4B</td>\n      <td>East York</td>\n      <td>Woodbine Gardens</td>\n    </tr>\n    <tr>\n      <th>16</th>\n      <td>M4B</td>\n      <td>East York</td>\n      <td>Parkview Hill</td>\n    </tr>\n    <tr>\n      <th>17</th>\n      <td>M5B</td>\n      <td>Downtown Toronto</td>\n      <td>Ryerson</td>\n    </tr>\n    <tr>\n      <th>18</th>\n      <td>M5B</td>\n      <td>Downtown Toronto</td>\n      <td>Garden District</td>\n    </tr>\n    <tr>\n      <th>19</th>\n      <td>M6B</td>\n      <td>North York</td>\n      <td>Glencairn</td>\n    </tr>\n    <tr>\n      <th>22</th>\n      <td>M9B</td>\n      <td>Etobicoke</td>\n      <td>Cloverdale</td>\n    </tr>\n    <tr>\n      <th>23</th>\n      <td>M9B</td>\n      <td>Etobicoke</td>\n      <td>Islington</td>\n    </tr>\n    <tr>\n      <th>24</th>\n      <td>M9B</td>\n      <td>Etobicoke</td>\n      <td>Martin Grove</td>\n    </tr>\n    <tr>\n      <th>25</th>\n      <td>M9B</td>\n      <td>Etobicoke</td>\n      <td>Princess Gardens</td>\n    </tr>\n  </tbody>\n</table>\n</div>", 
                        "text/plain": "   PostalCode           Borough      Neighborhood\n2         M3A        North York         Parkwoods\n3         M4A        North York  Victoria Village\n4         M5A  Downtown Toronto      Harbourfront\n5         M5A  Downtown Toronto       Regent Park\n6         M6A        North York  Lawrence Heights\n7         M6A        North York    Lawrence Manor\n8         M7A      Queen's Park      Not assigned\n10        M9A         Etobicoke  Islington Avenue\n11        M1B       Scarborough             Rouge\n12        M1B       Scarborough           Malvern\n14        M3B        North York   Don Mills North\n15        M4B         East York  Woodbine Gardens\n16        M4B         East York     Parkview Hill\n17        M5B  Downtown Toronto           Ryerson\n18        M5B  Downtown Toronto   Garden District\n19        M6B        North York         Glencairn\n22        M9B         Etobicoke        Cloverdale\n23        M9B         Etobicoke         Islington\n24        M9B         Etobicoke      Martin Grove\n25        M9B         Etobicoke  Princess Gardens"
                    }, 
                    "output_type": "execute_result"
                }
            ], 
            "source": "df.head(20)"
        }, 
        {
            "source": "Group the similar PostalCode and Borough together", 
            "cell_type": "markdown", 
            "metadata": {}
        }, 
        {
            "execution_count": 64, 
            "cell_type": "code", 
            "metadata": {}, 
            "outputs": [], 
            "source": "df = df.groupby(['PostalCode','Borough'])['Neighborhood'].apply(', '.join).reset_index()\ndf=df.sort_values(by='PostalCode',ascending=True)"
        }, 
        {
            "source": "Look for the 'Neighborhoods' with 'Not assigned' values", 
            "cell_type": "markdown", 
            "metadata": {}
        }, 
        {
            "execution_count": 65, 
            "cell_type": "code", 
            "metadata": {}, 
            "outputs": [
                {
                    "execution_count": 65, 
                    "metadata": {}, 
                    "data": {
                        "text/html": "<div>\n<style scoped>\n    .dataframe tbody tr th:only-of-type {\n        vertical-align: middle;\n    }\n\n    .dataframe tbody tr th {\n        vertical-align: top;\n    }\n\n    .dataframe thead th {\n        text-align: right;\n    }\n</style>\n<table border=\"1\" class=\"dataframe\">\n  <thead>\n    <tr style=\"text-align: right;\">\n      <th></th>\n      <th>PostalCode</th>\n      <th>Borough</th>\n      <th>Neighborhood</th>\n    </tr>\n  </thead>\n  <tbody>\n    <tr>\n      <th>85</th>\n      <td>M7A</td>\n      <td>Queen's Park</td>\n      <td>Not assigned</td>\n    </tr>\n  </tbody>\n</table>\n</div>", 
                        "text/plain": "   PostalCode       Borough  Neighborhood\n85        M7A  Queen's Park  Not assigned"
                    }, 
                    "output_type": "execute_result"
                }
            ], 
            "source": "df.loc[df['Neighborhood'] == 'Not assigned']"
        }, 
        {
            "source": "Since there is only one Neighborhood wiht 'Not assigned' value, we shall simply replace that Neighborhood's value to match its Borough", 
            "cell_type": "markdown", 
            "metadata": {}
        }, 
        {
            "execution_count": 66, 
            "cell_type": "code", 
            "metadata": {}, 
            "outputs": [], 
            "source": "df['Neighborhood']=df['Neighborhood'].replace('Not assigned', 'Queen\\'s Park')"
        }, 
        {
            "execution_count": 67, 
            "cell_type": "code", 
            "metadata": {}, 
            "outputs": [
                {
                    "execution_count": 67, 
                    "metadata": {}, 
                    "data": {
                        "text/html": "<div>\n<style scoped>\n    .dataframe tbody tr th:only-of-type {\n        vertical-align: middle;\n    }\n\n    .dataframe tbody tr th {\n        vertical-align: top;\n    }\n\n    .dataframe thead th {\n        text-align: right;\n    }\n</style>\n<table border=\"1\" class=\"dataframe\">\n  <thead>\n    <tr style=\"text-align: right;\">\n      <th></th>\n      <th>PostalCode</th>\n      <th>Borough</th>\n      <th>Neighborhood</th>\n    </tr>\n  </thead>\n  <tbody>\n    <tr>\n      <th>83</th>\n      <td>M6R</td>\n      <td>West Toronto</td>\n      <td>Parkdale, Roncesvalles</td>\n    </tr>\n    <tr>\n      <th>84</th>\n      <td>M6S</td>\n      <td>West Toronto</td>\n      <td>Runnymede, Swansea</td>\n    </tr>\n    <tr>\n      <th>85</th>\n      <td>M7A</td>\n      <td>Queen's Park</td>\n      <td>Queen's Park</td>\n    </tr>\n    <tr>\n      <th>86</th>\n      <td>M7R</td>\n      <td>Mississauga</td>\n      <td>Canada Post Gateway Processing Centre</td>\n    </tr>\n    <tr>\n      <th>87</th>\n      <td>M7Y</td>\n      <td>East Toronto</td>\n      <td>Business reply mail Processing Centre969 Eastern</td>\n    </tr>\n    <tr>\n      <th>88</th>\n      <td>M8V</td>\n      <td>Etobicoke</td>\n      <td>Humber Bay Shores, Mimico South, New Toronto</td>\n    </tr>\n    <tr>\n      <th>89</th>\n      <td>M8W</td>\n      <td>Etobicoke</td>\n      <td>Alderwood, Long Branch</td>\n    </tr>\n    <tr>\n      <th>90</th>\n      <td>M8X</td>\n      <td>Etobicoke</td>\n      <td>The Kingsway, Montgomery Road, Old Mill North</td>\n    </tr>\n    <tr>\n      <th>91</th>\n      <td>M8Y</td>\n      <td>Etobicoke</td>\n      <td>Humber Bay, King's Mill Park, Kingsway Park So...</td>\n    </tr>\n    <tr>\n      <th>92</th>\n      <td>M8Z</td>\n      <td>Etobicoke</td>\n      <td>Kingsway Park South West, Mimico NW, The Queen...</td>\n    </tr>\n    <tr>\n      <th>93</th>\n      <td>M9A</td>\n      <td>Etobicoke</td>\n      <td>Islington Avenue</td>\n    </tr>\n    <tr>\n      <th>94</th>\n      <td>M9B</td>\n      <td>Etobicoke</td>\n      <td>Cloverdale, Islington, Martin Grove, Princess ...</td>\n    </tr>\n    <tr>\n      <th>95</th>\n      <td>M9C</td>\n      <td>Etobicoke</td>\n      <td>Bloordale Gardens, Eringate, Markland Wood, Ol...</td>\n    </tr>\n    <tr>\n      <th>96</th>\n      <td>M9L</td>\n      <td>North York</td>\n      <td>Humber Summit</td>\n    </tr>\n    <tr>\n      <th>97</th>\n      <td>M9M</td>\n      <td>North York</td>\n      <td>Emery, Humberlea</td>\n    </tr>\n    <tr>\n      <th>98</th>\n      <td>M9N</td>\n      <td>York</td>\n      <td>Weston</td>\n    </tr>\n    <tr>\n      <th>99</th>\n      <td>M9P</td>\n      <td>Etobicoke</td>\n      <td>Westmount</td>\n    </tr>\n    <tr>\n      <th>100</th>\n      <td>M9R</td>\n      <td>Etobicoke</td>\n      <td>Kingsview Village, Martin Grove Gardens, Richv...</td>\n    </tr>\n    <tr>\n      <th>101</th>\n      <td>M9V</td>\n      <td>Etobicoke</td>\n      <td>Albion Gardens, Beaumond Heights, Humbergate, ...</td>\n    </tr>\n    <tr>\n      <th>102</th>\n      <td>M9W</td>\n      <td>Etobicoke</td>\n      <td>Northwest</td>\n    </tr>\n  </tbody>\n</table>\n</div>", 
                        "text/plain": "    PostalCode       Borough  \\\n83         M6R  West Toronto   \n84         M6S  West Toronto   \n85         M7A  Queen's Park   \n86         M7R   Mississauga   \n87         M7Y  East Toronto   \n88         M8V     Etobicoke   \n89         M8W     Etobicoke   \n90         M8X     Etobicoke   \n91         M8Y     Etobicoke   \n92         M8Z     Etobicoke   \n93         M9A     Etobicoke   \n94         M9B     Etobicoke   \n95         M9C     Etobicoke   \n96         M9L    North York   \n97         M9M    North York   \n98         M9N          York   \n99         M9P     Etobicoke   \n100        M9R     Etobicoke   \n101        M9V     Etobicoke   \n102        M9W     Etobicoke   \n\n                                          Neighborhood  \n83                              Parkdale, Roncesvalles  \n84                                  Runnymede, Swansea  \n85                                        Queen's Park  \n86               Canada Post Gateway Processing Centre  \n87    Business reply mail Processing Centre969 Eastern  \n88        Humber Bay Shores, Mimico South, New Toronto  \n89                              Alderwood, Long Branch  \n90       The Kingsway, Montgomery Road, Old Mill North  \n91   Humber Bay, King's Mill Park, Kingsway Park So...  \n92   Kingsway Park South West, Mimico NW, The Queen...  \n93                                    Islington Avenue  \n94   Cloverdale, Islington, Martin Grove, Princess ...  \n95   Bloordale Gardens, Eringate, Markland Wood, Ol...  \n96                                       Humber Summit  \n97                                    Emery, Humberlea  \n98                                              Weston  \n99                                           Westmount  \n100  Kingsview Village, Martin Grove Gardens, Richv...  \n101  Albion Gardens, Beaumond Heights, Humbergate, ...  \n102                                          Northwest  "
                    }, 
                    "output_type": "execute_result"
                }
            ], 
            "source": "df.tail(20)"
        }, 
        {
            "execution_count": 69, 
            "cell_type": "code", 
            "metadata": {}, 
            "outputs": [
                {
                    "execution_count": 69, 
                    "metadata": {}, 
                    "data": {
                        "text/plain": "(103, 3)"
                    }, 
                    "output_type": "execute_result"
                }
            ], 
            "source": "df.shape"
        }, 
        {
            "execution_count": null, 
            "cell_type": "code", 
            "metadata": {}, 
            "outputs": [], 
            "source": ""
        }
    ], 
    "metadata": {
        "kernelspec": {
            "display_name": "Python 3.5", 
            "name": "python3", 
            "language": "python"
        }, 
        "language_info": {
            "mimetype": "text/x-python", 
            "nbconvert_exporter": "python", 
            "version": "3.5.5", 
            "name": "python", 
            "file_extension": ".py", 
            "pygments_lexer": "ipython3", 
            "codemirror_mode": {
                "version": 3, 
                "name": "ipython"
            }
        }
    }, 
    "nbformat": 4
}